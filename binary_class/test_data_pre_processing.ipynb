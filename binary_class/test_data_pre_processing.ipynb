{
 "cells": [
  {
   "cell_type": "code",
   "execution_count": 14,
   "metadata": {},
   "outputs": [],
   "source": [
    "import numpy as np\n",
    "import pandas as pd"
   ]
  },
  {
   "cell_type": "code",
   "execution_count": 15,
   "metadata": {},
   "outputs": [],
   "source": [
    "def numeric_conversion(DATA_PATH, SIZE):\n",
    "    # SIZE= 31029\n",
    "    ZERO_MAT = np.zeros((1, SIZE))\n",
    "    i= 0\n",
    "    for individual in open(DATA_PATH).read():\n",
    "        if i < SIZE:\n",
    "            if individual == 'C' or individual == 'c' :\n",
    "                ZERO_MAT[0, i] = 0.25\n",
    "                i = i+1\n",
    "            elif individual == 'T' or individual == 't':\n",
    "                ZERO_MAT[0, i] = 0.5\n",
    "                i = i+1\n",
    "            elif individual == 'G' or individual == 'g':\n",
    "                ZERO_MAT[0, i] = 0.75\n",
    "                i = i+1\n",
    "            elif individual == 'A' or individual == 'a':\n",
    "                ZERO_MAT[0, i] = 1.0\n",
    "                i = i+1\n",
    "            else:\n",
    "                ZERO_MAT[0, i] = 0\n",
    "                i= i+1\n",
    "            \n",
    "    return ZERO_MAT"
   ]
  },
  {
   "cell_type": "code",
   "execution_count": 16,
   "metadata": {},
   "outputs": [],
   "source": [
    "SARS_COV_1_PATH ='The Coronavirus Project/Data/Coronaviruses/SARS-CoV-1/sequences/sequence/'\n",
    "SARS_COV_2_PATH = 'The Coronavirus Project/Data/Coronaviruses/SARS-CoV-2/sequences/sequence/'"
   ]
  },
  {
   "cell_type": "code",
   "execution_count": 17,
   "metadata": {},
   "outputs": [
    {
     "name": "stdout",
     "output_type": "stream",
     "text": [
      "correct files 29646\n",
      "correct files 29646\n",
      "correct files 29646\n",
      "correct files 29646\n",
      "correct files 29723\n",
      "correct files 29646\n",
      "correct files 29646\n",
      "correct files 29646\n",
      "correct files 29644\n",
      "correct files 29646\n",
      "correct files 29646\n",
      "correct files 29646\n",
      "correct files 29628\n",
      "correct files 29645\n",
      "correct files 29648\n",
      "correct files 29645\n",
      "correct files 29727\n",
      "correct files 29646\n",
      "correct files 29721\n",
      "correct files 29646\n",
      "correct files 29805\n",
      "correct files 29646\n",
      "correct files 29646\n",
      "correct files 29721\n",
      "correct files 29645\n",
      "correct files 29646\n",
      "correct files 29751\n",
      "correct files 29687\n",
      "correct files 29720\n",
      "correct files 29727\n",
      "correct files 29644\n",
      "correct files 29739\n",
      "correct files 29636\n",
      "correct files 29648\n",
      "correct files 29646\n",
      "correct files 29647\n",
      "correct files 29874\n",
      "correct files 29727\n",
      "correct files 29646\n",
      "correct files 29720\n",
      "correct files 29737\n",
      "correct files 29646\n",
      "correct files 29646\n",
      "correct files 29647\n",
      "correct files 29646\n",
      "correct files 29646\n",
      "correct files 29646\n",
      "correct files 29644\n",
      "correct files 29646\n",
      "correct files 29688\n",
      "correct files 29646\n",
      "correct files 29646\n",
      "correct files 29665\n",
      "correct files 29644\n",
      "correct files 29727\n",
      "correct files 29647\n",
      "correct files 29646\n",
      "correct files 29646\n",
      "correct files 29645\n",
      "correct files 29646\n",
      "correct files 29665\n",
      "correct files 29646\n",
      "correct files 29874\n",
      "correct files 29646\n",
      "correct files 29646\n",
      "correct files 29721\n",
      "correct files 29646\n",
      "correct files 29646\n",
      "correct files 29646\n",
      "correct files 29647\n",
      "correct files 29616\n",
      "correct files 29648\n",
      "correct files 29646\n",
      "correct files 29646\n",
      "correct files 29751\n",
      "correct files 29727\n",
      "correct files 29646\n",
      "correct files 29720\n",
      "correct files 29720\n",
      "correct files 29646\n",
      "correct files 29646\n",
      "correct files 29646\n",
      "correct files 29646\n",
      "correct files 29646\n",
      "correct files 29694\n",
      "correct files 29646\n",
      "correct files 29646\n",
      "correct files 29647\n",
      "correct files 29720\n",
      "correct files 29646\n",
      "correct files 29721\n",
      "correct files 29646\n",
      "correct files 29714\n",
      "correct files 29646\n",
      "correct files 29727\n",
      "correct files 29646\n",
      "correct files 29646\n",
      "correct files 29646\n",
      "correct files 29721\n",
      "correct files 29646\n",
      "correct files 29739\n",
      "correct files 29687\n",
      "**incorrect files** 322\n",
      "**incorrect files** 338\n",
      "**incorrect files** 1260\n",
      "**incorrect files** 290\n",
      "**incorrect files** 87\n",
      "**incorrect files** 107\n",
      "**incorrect files** 1260\n",
      "**incorrect files** 1260\n",
      "**incorrect files** 290\n",
      "**incorrect files** 569\n",
      "**incorrect files** 459\n",
      "**incorrect files** 264\n",
      "**incorrect files** 770\n",
      "**incorrect files** 294\n",
      "**incorrect files** 1260\n",
      "**incorrect files** 107\n",
      "**incorrect files** 158\n",
      "**incorrect files** 287\n",
      "**incorrect files** 1260\n",
      "**incorrect files** 357\n",
      "**incorrect files** 294\n",
      "**incorrect files** 363\n",
      "**incorrect files** 363\n",
      "**incorrect files** 615\n",
      "**incorrect files** 107\n",
      "**incorrect files** 294\n",
      "**incorrect files** 253\n",
      "**incorrect files** 84\n",
      "**incorrect files** 322\n",
      "**incorrect files** 107\n",
      "**incorrect files** 363\n",
      "**incorrect files** 1260\n",
      "**incorrect files** 322\n",
      "**incorrect files** 1269\n",
      "**incorrect files** 290\n",
      "**incorrect files** 399\n",
      "**incorrect files** 363\n",
      "**incorrect files** 287\n",
      "**incorrect files** 1411\n",
      "**incorrect files** 287\n",
      "**incorrect files** 363\n",
      "**incorrect files** 357\n",
      "**incorrect files** 294\n",
      "**incorrect files** 363\n",
      "**incorrect files** 287\n",
      "**incorrect files** 493\n",
      "**incorrect files** 1260\n",
      "**incorrect files** 363\n",
      "**incorrect files** 1260\n",
      "**incorrect files** 1260\n",
      "**incorrect files** 357\n",
      "**incorrect files** 440\n",
      "**incorrect files** 107\n",
      "**incorrect files** 294\n",
      "**incorrect files** 157\n",
      "**incorrect files** 338\n",
      "**incorrect files** 182\n",
      "**incorrect files** 322\n",
      "**incorrect files** 290\n",
      "**incorrect files** 294\n",
      "**incorrect files** 406\n",
      "**incorrect files** 1260\n",
      "**incorrect files** 562\n",
      "**incorrect files** 64\n",
      "**incorrect files** 107\n",
      "**incorrect files** 322\n",
      "**incorrect files** 107\n",
      "**incorrect files** 290\n",
      "**incorrect files** 287\n"
     ]
    }
   ],
   "source": [
    "COV_1_DIR = []\n",
    "import os\n",
    "for file in os.listdir(SARS_COV_1_PATH):\n",
    "    if file.endswith(\".txt\"):\n",
    "        if len( open(os.path.join(SARS_COV_1_PATH, file)).read()) >= 6000:\n",
    "            print(\"correct files\", len( open(os.path.join(SARS_COV_1_PATH, file)).read()))\n",
    "            COV_1_DIR.append(os.path.join(SARS_COV_1_PATH, file))\n",
    "        else:\n",
    "            print(\"incorrect files\",len( open(os.path.join(SARS_COV_1_PATH, file)).read()) )\n",
    "        \n",
    "        \n",
    "COV_2_DIR = []\n",
    "import os\n",
    "for file in os.listdir(SARS_COV_2_PATH):\n",
    "    if file.endswith(\".txt\"):\n",
    "        if len( open(os.path.join(SARS_COV_2_PATH, file)).read()) >= 6000:\n",
    "            \n",
    "            COV_2_DIR.append(os.path.join(SARS_COV_2_PATH, file))\n",
    "        else:\n",
    "            print(\"**incorrect files**\",len( open(os.path.join(SARS_COV_2_PATH, file)).read()) )"
   ]
  },
  {
   "cell_type": "code",
   "execution_count": 18,
   "metadata": {},
   "outputs": [
    {
     "data": {
      "text/plain": [
       "['The Coronavirus Project/Data/Coronaviruses/SARS-CoV-1/sequences/sequence/HQ890527.1.txt',\n",
       " 'The Coronavirus Project/Data/Coronaviruses/SARS-CoV-1/sequences/sequence/JF292908.1.txt',\n",
       " 'The Coronavirus Project/Data/Coronaviruses/SARS-CoV-1/sequences/sequence/JX163924.1.txt',\n",
       " 'The Coronavirus Project/Data/Coronaviruses/SARS-CoV-1/sequences/sequence/HQ890537.1.txt',\n",
       " 'The Coronavirus Project/Data/Coronaviruses/SARS-CoV-1/sequences/sequence/AY545914.1.txt',\n",
       " 'The Coronavirus Project/Data/Coronaviruses/SARS-CoV-1/sequences/sequence/JF292909.1.txt',\n",
       " 'The Coronavirus Project/Data/Coronaviruses/SARS-CoV-1/sequences/sequence/HQ890539.1.txt',\n",
       " 'The Coronavirus Project/Data/Coronaviruses/SARS-CoV-1/sequences/sequence/HQ890545.1.txt',\n",
       " 'The Coronavirus Project/Data/Coronaviruses/SARS-CoV-1/sequences/sequence/GU553364.1.txt',\n",
       " 'The Coronavirus Project/Data/Coronaviruses/SARS-CoV-1/sequences/sequence/HQ890544.1.txt',\n",
       " 'The Coronavirus Project/Data/Coronaviruses/SARS-CoV-1/sequences/sequence/JF292920.1.txt',\n",
       " 'The Coronavirus Project/Data/Coronaviruses/SARS-CoV-1/sequences/sequence/JF292918.1.txt',\n",
       " 'The Coronavirus Project/Data/Coronaviruses/SARS-CoV-1/sequences/sequence/FJ882944.1.txt',\n",
       " 'The Coronavirus Project/Data/Coronaviruses/SARS-CoV-1/sequences/sequence/HQ890532.1.txt',\n",
       " 'The Coronavirus Project/Data/Coronaviruses/SARS-CoV-1/sequences/sequence/FJ882937.1.txt',\n",
       " 'The Coronavirus Project/Data/Coronaviruses/SARS-CoV-1/sequences/sequence/JF292903.1.txt',\n",
       " 'The Coronavirus Project/Data/Coronaviruses/SARS-CoV-1/sequences/sequence/MK062182.1.txt',\n",
       " 'The Coronavirus Project/Data/Coronaviruses/SARS-CoV-1/sequences/sequence/HQ890530.1.txt',\n",
       " 'The Coronavirus Project/Data/Coronaviruses/SARS-CoV-1/sequences/sequence/FJ882951.1.txt',\n",
       " 'The Coronavirus Project/Data/Coronaviruses/SARS-CoV-1/sequences/sequence/JF292913.1.txt',\n",
       " 'The Coronavirus Project/Data/Coronaviruses/SARS-CoV-1/sequences/sequence/KF569996.1.txt',\n",
       " 'The Coronavirus Project/Data/Coronaviruses/SARS-CoV-1/sequences/sequence/FJ882932.1.txt',\n",
       " 'The Coronavirus Project/Data/Coronaviruses/SARS-CoV-1/sequences/sequence/JX163926.1.txt',\n",
       " 'The Coronavirus Project/Data/Coronaviruses/SARS-CoV-1/sequences/sequence/FJ882959.1.txt',\n",
       " 'The Coronavirus Project/Data/Coronaviruses/SARS-CoV-1/sequences/sequence/JF292904.1.txt',\n",
       " 'The Coronavirus Project/Data/Coronaviruses/SARS-CoV-1/sequences/sequence/HQ890543.1.txt',\n",
       " 'The Coronavirus Project/Data/Coronaviruses/SARS-CoV-1/sequences/sequence/NC_004718.3_RefSeq.txt',\n",
       " 'The Coronavirus Project/Data/Coronaviruses/SARS-CoV-1/sequences/sequence/FJ882928.1.txt',\n",
       " 'The Coronavirus Project/Data/Coronaviruses/SARS-CoV-1/sequences/sequence/FJ882948.1.txt',\n",
       " 'The Coronavirus Project/Data/Coronaviruses/SARS-CoV-1/sequences/sequence/JQ316196.1.txt',\n",
       " 'The Coronavirus Project/Data/Coronaviruses/SARS-CoV-1/sequences/sequence/GU553363.1.txt',\n",
       " 'The Coronavirus Project/Data/Coronaviruses/SARS-CoV-1/sequences/sequence/AY545917.1.txt',\n",
       " 'The Coronavirus Project/Data/Coronaviruses/SARS-CoV-1/sequences/sequence/FJ882954.1.txt',\n",
       " 'The Coronavirus Project/Data/Coronaviruses/SARS-CoV-1/sequences/sequence/FJ882953.1.txt',\n",
       " 'The Coronavirus Project/Data/Coronaviruses/SARS-CoV-1/sequences/sequence/FJ882950.1.txt',\n",
       " 'The Coronavirus Project/Data/Coronaviruses/SARS-CoV-1/sequences/sequence/JF292922.1.txt',\n",
       " 'The Coronavirus Project/Data/Coronaviruses/SARS-CoV-1/sequences/sequence/MK062184.1.txt',\n",
       " 'The Coronavirus Project/Data/Coronaviruses/SARS-CoV-1/sequences/sequence/MK062181.1.txt',\n",
       " 'The Coronavirus Project/Data/Coronaviruses/SARS-CoV-1/sequences/sequence/HQ890540.1.txt',\n",
       " 'The Coronavirus Project/Data/Coronaviruses/SARS-CoV-1/sequences/sequence/FJ882958.1.txt',\n",
       " 'The Coronavirus Project/Data/Coronaviruses/SARS-CoV-1/sequences/sequence/AY545918.1.txt',\n",
       " 'The Coronavirus Project/Data/Coronaviruses/SARS-CoV-1/sequences/sequence/JX163927.1.txt',\n",
       " 'The Coronavirus Project/Data/Coronaviruses/SARS-CoV-1/sequences/sequence/HQ890541.1.txt',\n",
       " 'The Coronavirus Project/Data/Coronaviruses/SARS-CoV-1/sequences/sequence/FJ882946.1.txt',\n",
       " 'The Coronavirus Project/Data/Coronaviruses/SARS-CoV-1/sequences/sequence/HQ890528.1.txt',\n",
       " 'The Coronavirus Project/Data/Coronaviruses/SARS-CoV-1/sequences/sequence/JF292914.1.txt',\n",
       " 'The Coronavirus Project/Data/Coronaviruses/SARS-CoV-1/sequences/sequence/JF292906.1.txt',\n",
       " 'The Coronavirus Project/Data/Coronaviruses/SARS-CoV-1/sequences/sequence/FJ882956.1.txt',\n",
       " 'The Coronavirus Project/Data/Coronaviruses/SARS-CoV-1/sequences/sequence/HQ890542.1.txt',\n",
       " 'The Coronavirus Project/Data/Coronaviruses/SARS-CoV-1/sequences/sequence/JX162087.1.txt',\n",
       " 'The Coronavirus Project/Data/Coronaviruses/SARS-CoV-1/sequences/sequence/JX163923.1.txt',\n",
       " 'The Coronavirus Project/Data/Coronaviruses/SARS-CoV-1/sequences/sequence/HQ890529.1.txt',\n",
       " 'The Coronavirus Project/Data/Coronaviruses/SARS-CoV-1/sequences/sequence/FJ882929.1.txt',\n",
       " 'The Coronavirus Project/Data/Coronaviruses/SARS-CoV-1/sequences/sequence/GU553365.1.txt',\n",
       " 'The Coronavirus Project/Data/Coronaviruses/SARS-CoV-1/sequences/sequence/MK062180.1.txt',\n",
       " 'The Coronavirus Project/Data/Coronaviruses/SARS-CoV-1/sequences/sequence/FJ882935.1.txt',\n",
       " 'The Coronavirus Project/Data/Coronaviruses/SARS-CoV-1/sequences/sequence/JF292911.1.txt',\n",
       " 'The Coronavirus Project/Data/Coronaviruses/SARS-CoV-1/sequences/sequence/FJ882960.1.txt',\n",
       " 'The Coronavirus Project/Data/Coronaviruses/SARS-CoV-1/sequences/sequence/HQ890531.1.txt',\n",
       " 'The Coronavirus Project/Data/Coronaviruses/SARS-CoV-1/sequences/sequence/JF292919.1.txt',\n",
       " 'The Coronavirus Project/Data/Coronaviruses/SARS-CoV-1/sequences/sequence/FJ882941.1.txt',\n",
       " 'The Coronavirus Project/Data/Coronaviruses/SARS-CoV-1/sequences/sequence/HQ890546.1.txt',\n",
       " 'The Coronavirus Project/Data/Coronaviruses/SARS-CoV-1/sequences/sequence/MK062183.1.txt',\n",
       " 'The Coronavirus Project/Data/Coronaviruses/SARS-CoV-1/sequences/sequence/JX163925.1.txt',\n",
       " 'The Coronavirus Project/Data/Coronaviruses/SARS-CoV-1/sequences/sequence/HQ890535.1.txt',\n",
       " 'The Coronavirus Project/Data/Coronaviruses/SARS-CoV-1/sequences/sequence/FJ882962.1.txt',\n",
       " 'The Coronavirus Project/Data/Coronaviruses/SARS-CoV-1/sequences/sequence/JF292921.1.txt',\n",
       " 'The Coronavirus Project/Data/Coronaviruses/SARS-CoV-1/sequences/sequence/FJ882940.1.txt',\n",
       " 'The Coronavirus Project/Data/Coronaviruses/SARS-CoV-1/sequences/sequence/JF292915.1.txt',\n",
       " 'The Coronavirus Project/Data/Coronaviruses/SARS-CoV-1/sequences/sequence/FJ882934.1.txt',\n",
       " 'The Coronavirus Project/Data/Coronaviruses/SARS-CoV-1/sequences/sequence/FJ882947.1.txt',\n",
       " 'The Coronavirus Project/Data/Coronaviruses/SARS-CoV-1/sequences/sequence/FJ882933.1.txt',\n",
       " 'The Coronavirus Project/Data/Coronaviruses/SARS-CoV-1/sequences/sequence/JF292910.1.txt',\n",
       " 'The Coronavirus Project/Data/Coronaviruses/SARS-CoV-1/sequences/sequence/HQ890533.1.txt',\n",
       " 'The Coronavirus Project/Data/Coronaviruses/SARS-CoV-1/sequences/sequence/AY274119.3.txt',\n",
       " 'The Coronavirus Project/Data/Coronaviruses/SARS-CoV-1/sequences/sequence/MK062179.1.txt',\n",
       " 'The Coronavirus Project/Data/Coronaviruses/SARS-CoV-1/sequences/sequence/JF292907.1.txt',\n",
       " 'The Coronavirus Project/Data/Coronaviruses/SARS-CoV-1/sequences/sequence/FJ882952.1.txt',\n",
       " 'The Coronavirus Project/Data/Coronaviruses/SARS-CoV-1/sequences/sequence/FJ882945.1.txt',\n",
       " 'The Coronavirus Project/Data/Coronaviruses/SARS-CoV-1/sequences/sequence/FJ882939.1.txt',\n",
       " 'The Coronavirus Project/Data/Coronaviruses/SARS-CoV-1/sequences/sequence/JF292917.1.txt',\n",
       " 'The Coronavirus Project/Data/Coronaviruses/SARS-CoV-1/sequences/sequence/JF292916.1.txt',\n",
       " 'The Coronavirus Project/Data/Coronaviruses/SARS-CoV-1/sequences/sequence/JX163928.1.txt',\n",
       " 'The Coronavirus Project/Data/Coronaviruses/SARS-CoV-1/sequences/sequence/HQ890536.1.txt',\n",
       " 'The Coronavirus Project/Data/Coronaviruses/SARS-CoV-1/sequences/sequence/FJ959407.1.txt',\n",
       " 'The Coronavirus Project/Data/Coronaviruses/SARS-CoV-1/sequences/sequence/JF292902.1.txt',\n",
       " 'The Coronavirus Project/Data/Coronaviruses/SARS-CoV-1/sequences/sequence/FJ882955.1.txt',\n",
       " 'The Coronavirus Project/Data/Coronaviruses/SARS-CoV-1/sequences/sequence/FJ882949.1.txt',\n",
       " 'The Coronavirus Project/Data/Coronaviruses/SARS-CoV-1/sequences/sequence/FJ882961.1.txt',\n",
       " 'The Coronavirus Project/Data/Coronaviruses/SARS-CoV-1/sequences/sequence/FJ882931.1.txt',\n",
       " 'The Coronavirus Project/Data/Coronaviruses/SARS-CoV-1/sequences/sequence/FJ882942.1.txt',\n",
       " 'The Coronavirus Project/Data/Coronaviruses/SARS-CoV-1/sequences/sequence/JF292912.1.txt',\n",
       " 'The Coronavirus Project/Data/Coronaviruses/SARS-CoV-1/sequences/sequence/AY545915.1.txt',\n",
       " 'The Coronavirus Project/Data/Coronaviruses/SARS-CoV-1/sequences/sequence/HQ890538.1.txt',\n",
       " 'The Coronavirus Project/Data/Coronaviruses/SARS-CoV-1/sequences/sequence/JN854286.1.txt',\n",
       " 'The Coronavirus Project/Data/Coronaviruses/SARS-CoV-1/sequences/sequence/HQ890526.1.txt',\n",
       " 'The Coronavirus Project/Data/Coronaviruses/SARS-CoV-1/sequences/sequence/JF292905.1.txt',\n",
       " 'The Coronavirus Project/Data/Coronaviruses/SARS-CoV-1/sequences/sequence/HQ890534.1.txt',\n",
       " 'The Coronavirus Project/Data/Coronaviruses/SARS-CoV-1/sequences/sequence/AY545916.1.txt',\n",
       " 'The Coronavirus Project/Data/Coronaviruses/SARS-CoV-1/sequences/sequence/FJ882936.1.txt',\n",
       " 'The Coronavirus Project/Data/Coronaviruses/SARS-CoV-1/sequences/sequence/AY545919.1.txt',\n",
       " 'The Coronavirus Project/Data/Coronaviruses/SARS-CoV-1/sequences/sequence/FJ882927.1.txt']"
      ]
     },
     "execution_count": 18,
     "metadata": {},
     "output_type": "execute_result"
    }
   ],
   "source": [
    "COV_1_DIR"
   ]
  },
  {
   "cell_type": "code",
   "execution_count": 19,
   "metadata": {},
   "outputs": [],
   "source": [
    "FEATURES = 8000\n",
    "COV_1_DATA = np.zeros((len(COV_1_DIR[0:-1]), FEATURES))\n",
    "row = 0\n",
    "for DATA_PATH in COV_1_DIR[0:-1]:\n",
    "    \n",
    "    COV_1_DATA[row,:] = numeric_conversion(DATA_PATH, FEATURES)[0]\n",
    "    row =row + 1\n",
    "\n",
    "    \n",
    "FEATURES = 8000#31029\n",
    "row = 0\n",
    "COV_2_DATA = np.zeros((len(COV_2_DIR[0:-1]), FEATURES))\n",
    "for DATA_PATH in COV_2_DIR[0:-1]:\n",
    "    \n",
    "    COV_2_DATA[row,:] = numeric_conversion(DATA_PATH, FEATURES)[0]\n",
    "    row =row + 1\n",
    "    \n"
   ]
  },
  {
   "cell_type": "code",
   "execution_count": 22,
   "metadata": {},
   "outputs": [
    {
     "data": {
      "text/plain": [
       "array([[0.25, 0.75, 1.  , ..., 1.  , 0.25, 1.  ],\n",
       "       [0.25, 0.75, 1.  , ..., 1.  , 0.25, 1.  ],\n",
       "       [0.25, 0.75, 1.  , ..., 1.  , 0.25, 1.  ],\n",
       "       ...,\n",
       "       [0.25, 1.  , 1.  , ..., 0.75, 0.5 , 0.5 ],\n",
       "       [0.25, 0.75, 1.  , ..., 1.  , 0.25, 1.  ],\n",
       "       [1.  , 0.75, 0.75, ..., 1.  , 0.25, 0.5 ]])"
      ]
     },
     "execution_count": 22,
     "metadata": {},
     "output_type": "execute_result"
    }
   ],
   "source": [
    "COV_1_DATA"
   ]
  },
  {
   "cell_type": "code",
   "execution_count": 23,
   "metadata": {},
   "outputs": [],
   "source": [
    "np.save(\"SARS-COV-1-name-list\", COV_1_DIR[0:-1])"
   ]
  },
  {
   "cell_type": "code",
   "execution_count": 24,
   "metadata": {},
   "outputs": [],
   "source": [
    "np.save(\"SARS-COV-2-name-list\", COV_2_DIR[0:-1])"
   ]
  },
  {
   "cell_type": "code",
   "execution_count": 25,
   "metadata": {},
   "outputs": [
    {
     "data": {
      "text/plain": [
       "array(['The Coronavirus Project/Data/Coronaviruses/SARS-CoV-2/sequences/sequence/seq_c_0981_hCoV-19_Spain_Madrid_LP12_21_2020__EPI_ISL_417972__2020-03-09.txt',\n",
       "       'The Coronavirus Project/Data/Coronaviruses/SARS-CoV-2/sequences/sequence/seq_c_1868_hCoV-19_Senegal_094_2020__EPI_ISL_418213__2020-03-12.txt',\n",
       "       'The Coronavirus Project/Data/Coronaviruses/SARS-CoV-2/sequences/sequence/seq_c_1510_hCoV-19_Nanchang_JX155_2020__EPI_ISL_421262__2020-01-29.txt',\n",
       "       ...,\n",
       "       'The Coronavirus Project/Data/Coronaviruses/SARS-CoV-2/sequences/sequence/seq_3365_hCoV-19_USA_WA-UW369_2020__EPI_ISL_418936__2020-03-17.txt',\n",
       "       'The Coronavirus Project/Data/Coronaviruses/SARS-CoV-2/sequences/sequence/seq_p_0025_BetaCoV_Wuhan_WH-02_2019.txt',\n",
       "       'The Coronavirus Project/Data/Coronaviruses/SARS-CoV-2/sequences/sequence/seq_c_2942_hCoV-19_Canada_BC_7553799_2020__EPI_ISL_418846__2020-03-12.txt'],\n",
       "      dtype='<U158')"
      ]
     },
     "execution_count": 25,
     "metadata": {},
     "output_type": "execute_result"
    }
   ],
   "source": [
    "np.load(\"SARS-COV-2-name-list.npy\")"
   ]
  },
  {
   "cell_type": "markdown",
   "metadata": {},
   "source": [
    "## Label\n",
    "COV-2 has a label-0\n",
    "COV-1 has a ;abel-1"
   ]
  },
  {
   "cell_type": "code",
   "execution_count": 26,
   "metadata": {},
   "outputs": [],
   "source": [
    "COV_1_LABEL = np.ones((COV_1_DATA.shape[0],1)).astype(np.int64)\n",
    "COV_2_LABEL = np.zeros((COV_2_DATA.shape[0],1)).astype(np.int64)"
   ]
  },
  {
   "cell_type": "code",
   "execution_count": 27,
   "metadata": {},
   "outputs": [],
   "source": [
    "TEST_DATA = np.vstack((COV_1_DATA, COV_2_DATA))\n",
    "TEST_LABEL = np.vstack((COV_1_LABEL, COV_2_LABEL))"
   ]
  },
  {
   "cell_type": "code",
   "execution_count": 28,
   "metadata": {},
   "outputs": [
    {
     "name": "stdout",
     "output_type": "stream",
     "text": [
      "Creation of the result directory /home/harikrishnan/Documents/HARIKRISHNAN_NB/2022/MBEC/SARS-COV-2_vs_SARS-COV-1/PREPROCESSED_DATA/ failed\n"
     ]
    }
   ],
   "source": [
    "PATH = os.getcwd()\n",
    "NEWPATH = PATH + '/PREPROCESSED_DATA/'  \n",
    "\n",
    "# define the name of the directory to be created\n",
    "\n",
    "\n",
    "try:\n",
    "    os.makedirs(NEWPATH)\n",
    "except OSError:\n",
    "    print (\"Creation of the result directory %s failed\" % NEWPATH)\n",
    "else:\n",
    "    print (\"Successfully created the result directory %s\" % NEWPATH)\n",
    "    \n",
    "np.save(NEWPATH+\"COV_1_DATA.npy\", COV_1_DATA)\n",
    "np.save(NEWPATH+\"COV_1_LABEL.npy\",COV_1_LABEL)\n",
    "np.save(NEWPATH+\"COV_2_DATA.npy\", COV_2_DATA)\n",
    "np.save(NEWPATH+\"COV_2_LABEL.npy\",COV_2_LABEL)\n",
    "np.save(NEWPATH+\"TEST_DATA.npy\", TEST_DATA)\n",
    "np.save(NEWPATH+\"TEST_LABEL.npy\", TEST_LABEL)"
   ]
  },
  {
   "cell_type": "code",
   "execution_count": 29,
   "metadata": {},
   "outputs": [
    {
     "data": {
      "text/plain": [
       "array([[0],\n",
       "       [0],\n",
       "       [0],\n",
       "       ...,\n",
       "       [0],\n",
       "       [0],\n",
       "       [0]])"
      ]
     },
     "execution_count": 29,
     "metadata": {},
     "output_type": "execute_result"
    }
   ],
   "source": [
    "COV_2_LABEL"
   ]
  },
  {
   "cell_type": "code",
   "execution_count": null,
   "metadata": {},
   "outputs": [],
   "source": []
  }
 ],
 "metadata": {
  "kernelspec": {
   "display_name": "Python 3",
   "language": "python",
   "name": "python3"
  },
  "language_info": {
   "codemirror_mode": {
    "name": "ipython",
    "version": 3
   },
   "file_extension": ".py",
   "mimetype": "text/x-python",
   "name": "python",
   "nbconvert_exporter": "python",
   "pygments_lexer": "ipython3",
   "version": "3.9.2"
  }
 },
 "nbformat": 4,
 "nbformat_minor": 4
}
